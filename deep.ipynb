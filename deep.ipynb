{
 "cells": [
  {
   "cell_type": "markdown",
   "metadata": {},
   "source": [
    "    <h2> Keras</h2>     \n",
    "Keras is a high level deep learning API written in python for easy implementation of neural networks. It uses deep learning framework like Tensorflow, pytorch etc to make computation faster.\n",
    "\n",
    "Keras uses computational graphs to express and evaluate mathematical expressions.\n",
    "\n"
   ]
  },
  {
   "cell_type": "markdown",
   "metadata": {},
   "source": [
    "<h3>Sequential Model</h3>\n",
    "Sequential model is a linear stack of layers where the previous layer leads to the next layer. \n",
    "It is useful for simple classifier or decoder models."
   ]
  },
  {
   "cell_type": "markdown",
   "metadata": {},
   "source": [
    "<h3>Functional model</h3>\n",
    "Functional model uses multi input and multioutput model. It is a complex model which forks into two or more branches."
   ]
  },
  {
   "cell_type": "markdown",
   "metadata": {},
   "source": [
    "<h3> What are neural networks</h3>\n",
    "Neural networks are deep learning algorithms modelled after the human brain. They use multiple neurons which are mathematical operations to breakown and solve complex mathematical problems."
   ]
  },
  {
   "cell_type": "markdown",
   "metadata": {},
   "source": [
    "<h2>Data Preprocessing</h2>\n",
    "Here we will create aour own data example set with keras. The data will consist of a clinical trial conducted on 2100 patients ranging from the age of 13 to 100 with half the patients under the age of 65 and other half over the age of 65. We want to find the possibility of a patient experiencing side effects due to their age."
   ]
  },
  {
   "cell_type": "code",
   "execution_count": null,
   "metadata": {},
   "outputs": [],
   "source": []
  }
 ],
 "metadata": {
  "kernelspec": {
   "display_name": "Python 3",
   "language": "python",
   "name": "python3"
  },
  "language_info": {
   "codemirror_mode": {
    "name": "ipython",
    "version": 3
   },
   "file_extension": ".py",
   "mimetype": "text/x-python",
   "name": "python",
   "nbconvert_exporter": "python",
   "pygments_lexer": "ipython3",
   "version": "3.10.12"
  }
 },
 "nbformat": 4,
 "nbformat_minor": 2
}
